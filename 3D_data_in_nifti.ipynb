{
  "nbformat": 4,
  "nbformat_minor": 0,
  "metadata": {
    "colab": {
      "name": "3D data in nifti.ipynb",
      "provenance": [],
      "collapsed_sections": [],
      "include_colab_link": true
    },
    "kernelspec": {
      "name": "python3",
      "display_name": "Python 3"
    },
    "language_info": {
      "name": "python"
    }
  },
  "cells": [
    {
      "cell_type": "markdown",
      "metadata": {
        "id": "view-in-github",
        "colab_type": "text"
      },
      "source": [
        "<a href=\"https://colab.research.google.com/github/vantainguyen/Computation-of-magnetic-field/blob/master/3D_data_in_nifti.ipynb\" target=\"_parent\"><img src=\"https://colab.research.google.com/assets/colab-badge.svg\" alt=\"Open In Colab\"/></a>"
      ]
    },
    {
      "cell_type": "code",
      "metadata": {
        "colab": {
          "base_uri": "https://localhost:8080/"
        },
        "id": "GAKoaOwazId_",
        "outputId": "5a0857d1-5921-4f44-a360-84c01973a41b"
      },
      "source": [
        "from google.colab import drive\n",
        "import os\n",
        "\n",
        "useGoogleDrive=0\n",
        "\n",
        "if useGoogleDrive:\n",
        "  drive.mount('/content/gdrive')\n",
        "import numpy as np\n",
        "!pip install raster_geometry\n",
        "import raster_geometry.raster as raster"
      ],
      "execution_count": 1,
      "outputs": [
        {
          "output_type": "stream",
          "text": [
            "Collecting raster_geometry\n",
            "  Downloading raster_geometry-0.1.4.1-py2.py3-none-any.whl (19 kB)\n",
            "Collecting flyingcircus-numeric\n",
            "  Downloading flyingcircus_numeric-0.1.1.2-py2.py3-none-any.whl (69 kB)\n",
            "\u001b[K     |████████████████████████████████| 69 kB 3.6 MB/s \n",
            "\u001b[?25hCollecting flyingcircus\n",
            "  Downloading flyingcircus-0.1.4.0-py2.py3-none-any.whl (182 kB)\n",
            "\u001b[K     |████████████████████████████████| 182 kB 10.9 MB/s \n",
            "\u001b[?25hRequirement already satisfied: setuptools in /usr/local/lib/python3.7/dist-packages (from raster_geometry) (57.4.0)\n",
            "Requirement already satisfied: appdirs in /usr/local/lib/python3.7/dist-packages (from raster_geometry) (1.4.4)\n",
            "Requirement already satisfied: numpy in /usr/local/lib/python3.7/dist-packages (from raster_geometry) (1.19.5)\n",
            "Requirement already satisfied: scipy in /usr/local/lib/python3.7/dist-packages (from raster_geometry) (1.4.1)\n",
            "Collecting setuptools-scm\n",
            "  Downloading setuptools_scm-6.0.1-py3-none-any.whl (27 kB)\n",
            "Collecting blessed\n",
            "  Downloading blessed-1.18.1-py2.py3-none-any.whl (56 kB)\n",
            "\u001b[K     |████████████████████████████████| 56 kB 4.4 MB/s \n",
            "\u001b[?25hRequirement already satisfied: wcwidth>=0.1.4 in /usr/local/lib/python3.7/dist-packages (from blessed->flyingcircus->raster_geometry) (0.2.5)\n",
            "Requirement already satisfied: six>=1.9.0 in /usr/local/lib/python3.7/dist-packages (from blessed->flyingcircus->raster_geometry) (1.15.0)\n",
            "Installing collected packages: setuptools-scm, blessed, flyingcircus-numeric, flyingcircus, raster-geometry\n",
            "Successfully installed blessed-1.18.1 flyingcircus-0.1.4.0 flyingcircus-numeric-0.1.1.2 raster-geometry-0.1.4.1 setuptools-scm-6.0.1\n"
          ],
          "name": "stdout"
        }
      ]
    },
    {
      "cell_type": "code",
      "metadata": {
        "id": "QLpcWlXq1B2F"
      },
      "source": [
        "import matplotlib.pyplot as plt\n",
        "from scipy import ndimage\n",
        "\n",
        "\n",
        "def view_slices_3d(image_3d, slice_nbr, vmin, vmax, title=''):\n",
        "#   print('Matrix size: {}'.format(image_3d.shape))\n",
        "  fig = plt.figure(figsize=(6, 3))\n",
        "  plt.suptitle(title, fontsize=10)\n",
        "\n",
        "  plt.subplot(131)\n",
        "  plt.imshow(np.take(image_3d, slice_nbr, 2), vmin=vmin, vmax=vmax, cmap='gray')\n",
        "  plt.title('Axial');\n",
        "\n",
        "  plt.subplot(132)\n",
        "  image_rot = ndimage.rotate(np.take(image_3d, slice_nbr, 1),180)\n",
        "  plt.imshow(image_rot, vmin=vmin, vmax=vmax, cmap='gray')\n",
        "  plt.title('Coronal');\n",
        "\n",
        "  plt.subplot(133)\n",
        "  image_rot = ndimage.rotate(np.take(image_3d, slice_nbr, 0),180)\n",
        "  plt.imshow(image_rot, vmin=vmin, vmax=vmax, cmap='gray')\n",
        "  plt.title('Sagittal');\n",
        "  cbar=plt.colorbar()"
      ],
      "execution_count": 132,
      "outputs": []
    },
    {
      "cell_type": "code",
      "metadata": {
        "colab": {
          "base_uri": "https://localhost:8080/",
          "height": 166
        },
        "id": "Mei1RF385Kby",
        "outputId": "8f688539-f21d-4925-bf69-663ace589cb0"
      },
      "source": [
        "print(raster.sphere(5,1, position=[2, 2, 2]))"
      ],
      "execution_count": null,
      "outputs": [
        {
          "output_type": "error",
          "ename": "NameError",
          "evalue": "ignored",
          "traceback": [
            "\u001b[0;31m---------------------------------------------------------------------------\u001b[0m",
            "\u001b[0;31mNameError\u001b[0m                                 Traceback (most recent call last)",
            "\u001b[0;32m<ipython-input-2-ecfac7cb4663>\u001b[0m in \u001b[0;36m<module>\u001b[0;34m()\u001b[0m\n\u001b[0;32m----> 1\u001b[0;31m \u001b[0mprint\u001b[0m\u001b[0;34m(\u001b[0m\u001b[0mraster\u001b[0m\u001b[0;34m.\u001b[0m\u001b[0msphere\u001b[0m\u001b[0;34m(\u001b[0m\u001b[0;36m5\u001b[0m\u001b[0;34m,\u001b[0m\u001b[0;36m1\u001b[0m\u001b[0;34m,\u001b[0m \u001b[0mposition\u001b[0m\u001b[0;34m=\u001b[0m\u001b[0;34m[\u001b[0m\u001b[0;36m2\u001b[0m\u001b[0;34m,\u001b[0m \u001b[0;36m2\u001b[0m\u001b[0;34m,\u001b[0m \u001b[0;36m2\u001b[0m\u001b[0;34m]\u001b[0m\u001b[0;34m)\u001b[0m\u001b[0;34m)\u001b[0m\u001b[0;34m\u001b[0m\u001b[0;34m\u001b[0m\u001b[0m\n\u001b[0m",
            "\u001b[0;31mNameError\u001b[0m: name 'raster' is not defined"
          ]
        }
      ]
    },
    {
      "cell_type": "code",
      "metadata": {
        "cellView": "code",
        "id": "AFUCPcGE0HIo"
      },
      "source": [
        "from numpy import pi, tan\n",
        "\n",
        "simulation_dim = 160\n",
        "radius = 20\n",
        "rel_positionX = 0.5\n",
        "rel_positionY = 0.5\n",
        "rel_positionZ = 0.5\n",
        "intensity=-0.7\n",
        "\n",
        "data = np.zeros((simulation_dim, simulation_dim, simulation_dim), dtype=np.float32)\n",
        "\n",
        "data_circle_ = np.zeros((simulation_dim, simulation_dim, simulation_dim), dtype=np.float32)\n",
        "\n",
        "sphere = raster.sphere(simulation_dim, radius, position=[rel_positionX, rel_positionY, rel_positionZ])\n",
        "\n",
        "ellipsoid = raster.ellipsoid(simulation_dim, (0.2), position=[rel_positionX, rel_positionY, rel_positionZ])\n",
        "\n",
        "sphere_1 = sphere.view()\n",
        "\n",
        "#sphere_1 = intensity\n",
        "\n",
        "#data[sphere] = intensity\n",
        "\n",
        "data[ellipsoid] = intensity\n",
        "\n",
        "# add a cube as well:\n",
        "#data[80:100, 50:100, 20:110] = intensity\n",
        "# angle alpha and height\n",
        "\n",
        "alpha = pi/3\n",
        "h = 20\n",
        "\n",
        "for i in range(1, 20):\n",
        "\n",
        "  radius = i*tan(alpha)\n",
        "\n",
        "  circle = raster.circle(simulation_dim, radius=radius)\n",
        "\n",
        "  #circle_5 = raster.circle([160, 160], radius=30)\n",
        "\n",
        "  data_circle_[50 + i][circle] = 1\n"
      ],
      "execution_count": 105,
      "outputs": []
    },
    {
      "cell_type": "code",
      "metadata": {
        "colab": {
          "base_uri": "https://localhost:8080/",
          "height": 222
        },
        "id": "2CqCY92PLqAx",
        "outputId": "a8c92657-ce4f-4c9c-cab0-d22c8e9fd503"
      },
      "source": [
        "view_slices_3d(data_circle_, slice_nbr=68, vmin=-1, vmax=1, title='simulation')"
      ],
      "execution_count": 133,
      "outputs": [
        {
          "output_type": "display_data",
          "data": {
            "image/png": "[encoded data removed]",
            "text/plain": [
              "<Figure size 432x216 with 4 Axes>"
            ]
          },
          "metadata": {
            "needs_background": "light"
          }
        }
      ]
    },
    {
      "cell_type": "code",
      "metadata": {
        "colab": {
          "base_uri": "https://localhost:8080/",
          "height": 222
        },
        "id": "e1wgfMgt0ZDF",
        "outputId": "f82917d9-2573-47f1-a795-53e9730a43d8"
      },
      "source": [
        "view_slices_3d(data, slice_nbr=10, vmin=-1, vmax=1,title='simulation')\n"
      ],
      "execution_count": 67,
      "outputs": [
        {
          "output_type": "display_data",
          "data": {
            "image/png": "[encoded data removed]",
            "text/plain": [
              "<Figure size 432x216 with 4 Axes>"
            ]
          },
          "metadata": {
            "needs_background": "light"
          }
        }
      ]
    },
    {
      "cell_type": "code",
      "metadata": {
        "colab": {
          "base_uri": "https://localhost:8080/",
          "height": 286
        },
        "id": "obn_CI6WO07y",
        "outputId": "27fcb124-6383-4318-adf8-42fe94e87af8"
      },
      "source": [
        "plt.imshow(data_circle_[:, :, 80], vmin=-1, vmax=1, cmap='gray')"
      ],
      "execution_count": 102,
      "outputs": [
        {
          "output_type": "execute_result",
          "data": {
            "text/plain": [
              "<matplotlib.image.AxesImage at 0x7f4f67982b10>"
            ]
          },
          "metadata": {},
          "execution_count": 102
        },
        {
          "output_type": "display_data",
          "data": {
            "image/png": "[encoded data removed]",
            "text/plain": [
              "<Figure size 432x288 with 1 Axes>"
            ]
          },
          "metadata": {
            "needs_background": "light"
          }
        }
      ]
    },
    {
      "cell_type": "code",
      "metadata": {
        "id": "kcLi8TY53Cik"
      },
      "source": [
        "    import nibabel as nib\n",
        "    nft_img = nib.Nifti1Image(data_circle_, np.eye(4))\n",
        "    nib.save(nft_img, 'img.nii.gz')\n",
        "\n",
        "    img = nib.load('img.nii.gz')\n",
        "\n",
        "    img_data = img.get_fdata()\n",
        "\n",
        "    img_affine = img.affine"
      ],
      "execution_count": 95,
      "outputs": []
    },
    {
      "cell_type": "code",
      "metadata": {
        "colab": {
          "base_uri": "https://localhost:8080/"
        },
        "id": "2ZqcAB-rPdpK",
        "outputId": "a74fdc7f-45cc-4101-fe6f-01f638a61c19"
      },
      "source": [
        "img_affine"
      ],
      "execution_count": 15,
      "outputs": [
        {
          "output_type": "execute_result",
          "data": {
            "text/plain": [
              "array([[1., 0., 0., 0.],\n",
              "       [0., 1., 0., 0.],\n",
              "       [0., 0., 1., 0.],\n",
              "       [0., 0., 0., 1.]])"
            ]
          },
          "metadata": {},
          "execution_count": 15
        }
      ]
    },
    {
      "cell_type": "code",
      "metadata": {
        "colab": {
          "base_uri": "https://localhost:8080/",
          "height": 222
        },
        "id": "ZCwihxLBOs8k",
        "outputId": "70dd7e50-2eea-4d21-907b-ba9ba2a44605"
      },
      "source": [
        "view_slices_3d(img_data, slice_nbr=80, vmin=-1, vmax=1,title='simulation')\n"
      ],
      "execution_count": 96,
      "outputs": [
        {
          "output_type": "display_data",
          "data": {
            "image/png": "[encoded data removed]",
            "text/plain": [
              "<Figure size 432x216 with 4 Axes>"
            ]
          },
          "metadata": {
            "needs_background": "light"
          }
        }
      ]
    },
    {
      "cell_type": "code",
      "metadata": {
        "colab": {
          "base_uri": "https://localhost:8080/"
        },
        "id": "zbAP1vFOy8xy",
        "outputId": "947cbcca-dc7d-4ff9-8adc-2576c75f6c38"
      },
      "source": [
        "import numpy as np\n",
        "\n",
        "np.eye(4)"
      ],
      "execution_count": 1,
      "outputs": [
        {
          "output_type": "execute_result",
          "data": {
            "text/plain": [
              "array([[1., 0., 0., 0.],\n",
              "       [0., 1., 0., 0.],\n",
              "       [0., 0., 1., 0.],\n",
              "       [0., 0., 0., 1.]])"
            ]
          },
          "metadata": {},
          "execution_count": 1
        }
      ]
    },
    {
      "cell_type": "code",
      "metadata": {
        "colab": {
          "base_uri": "https://localhost:8080/",
          "height": 339
        },
        "id": "x992MU48pgva",
        "outputId": "8f8659a5-469e-42f0-e096-e40f63d333f0"
      },
      "source": [
        "import numpy as np\n",
        "from numpy import pi, sin, cos\n",
        "from matplotlib import pyplot as plt\n",
        "\n",
        "fig = plt.figure(figsize=(5, 5))\n",
        "\n",
        "dimensionality = 100\n",
        "R = 20.5\n",
        "z = np.linspace(0, 15, 2)\n",
        "theta = np.linspace(0, 2*pi, 200)\n",
        "r = np.linspace(0, R, 2)\n",
        "origin = [50, 50]\n",
        "\n",
        "intensity = .8\n",
        "\n",
        "image2d = np.zeros((dimensionality, dimensionality))\n",
        "\n",
        "for theta_ in theta:\n",
        "  index_x = round(R*sin(theta_)) + origin[0]\n",
        "  index_y = round(R*cos(theta_)) + origin[1]\n",
        "\n",
        "  image2d[min(index_x, 50): max(index_x, 50), min(50, index_y): max(50, index_y)] = intensity\n",
        "\n",
        "#thetaval_index = np.where(theta >= pi)\n",
        "\n",
        "#image2d[:, thetaval_index] = 0\n",
        "#plt.subplot(131)\n",
        "plt.imshow(image2d, cmap='gray')\n"
      ],
      "execution_count": 1,
      "outputs": [
        {
          "output_type": "execute_result",
          "data": {
            "text/plain": [
              "<matplotlib.image.AxesImage at 0x7f0d6b4d5f90>"
            ]
          },
          "metadata": {},
          "execution_count": 1
        },
        {
          "output_type": "display_data",
          "data": {
            "image/png": "[encoded data removed]",
            "text/plain": [
              "<Figure size 360x360 with 1 Axes>"
            ]
          },
          "metadata": {
            "needs_background": "light"
          }
        }
      ]
    },
    {
      "cell_type": "code",
      "metadata": {
        "colab": {
          "base_uri": "https://localhost:8080/"
        },
        "id": "ba-JUNe9veGd",
        "outputId": "c5bf7c18-acb5-4bf9-c9a3-bdd2971f76b6"
      },
      "source": [
        "np.take(image2d, 50, 1)"
      ],
      "execution_count": null,
      "outputs": [
        {
          "output_type": "execute_result",
          "data": {
            "text/plain": [
              "array([0. , 0. , 0. , 0. , 0. , 0. , 0. , 0. , 0. , 0. , 0. , 0. , 0. ,\n",
              "       0. , 0. , 0. , 0. , 0. , 0. , 0. , 0. , 0. , 0. , 0. , 0. , 0. ,\n",
              "       0. , 0. , 0. , 0. , 0.5, 0.5, 0.5, 0.5, 0.5, 0.5, 0.5, 0.5, 0.5,\n",
              "       0.5, 0.5, 0.5, 0.5, 0.5, 0.5, 0.5, 0.5, 0.5, 0.5, 0.5, 0.5, 0.5,\n",
              "       0.5, 0.5, 0.5, 0.5, 0.5, 0.5, 0.5, 0.5, 0.5, 0.5, 0.5, 0.5, 0.5,\n",
              "       0.5, 0.5, 0.5, 0.5, 0.5, 0. , 0. , 0. , 0. , 0. , 0. , 0. , 0. ,\n",
              "       0. , 0. , 0. , 0. , 0. , 0. , 0. , 0. , 0. , 0. , 0. , 0. , 0. ,\n",
              "       0. , 0. , 0. , 0. , 0. , 0. , 0. , 0. , 0. ])"
            ]
          },
          "metadata": {},
          "execution_count": 30
        }
      ]
    },
    {
      "cell_type": "code",
      "metadata": {
        "colab": {
          "base_uri": "https://localhost:8080/"
        },
        "id": "j71y83SlvxdP",
        "outputId": "bfa709bd-aaa8-4e7f-abb0-be5f0c761ce8"
      },
      "source": [
        "image2d[1, 4]"
      ],
      "execution_count": null,
      "outputs": [
        {
          "output_type": "execute_result",
          "data": {
            "text/plain": [
              "3.0"
            ]
          },
          "metadata": {
            "tags": []
          },
          "execution_count": 27
        }
      ]
    }
  ]
}